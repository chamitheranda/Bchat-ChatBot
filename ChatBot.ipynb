{
 "cells": [
  {
   "cell_type": "markdown",
   "id": "d3403092",
   "metadata": {},
   "source": [
    "# ChatBot"
   ]
  },
  {
   "cell_type": "code",
   "execution_count": 5,
   "id": "aeba4e6f",
   "metadata": {},
   "outputs": [],
   "source": [
    "import tensorflow as tf\n",
    "import numpy as np\n",
    "import pandas as pd\n",
    "import json\n",
    "import nltk\n",
    "from tensorflow.keras.preprocessing.text import Tokenizer\n",
    "from tensorflow.keras.layers import Input , Embedding , LSTM , Dense , GlobalMaxPooling1D , Flatten\n",
    "from tensorflow.keras.models import Model\n",
    "import matplotlib.pyplot as plt"
   ]
  },
  {
   "cell_type": "code",
   "execution_count": 12,
   "id": "98685a13",
   "metadata": {},
   "outputs": [
    {
     "name": "stdout",
     "output_type": "stream",
     "text": [
      "Overwriting content.json\n"
     ]
    }
   ],
   "source": [
    "%%writefile content.json\n",
    "{\"intents\":\n",
    " [\n",
    "     {\n",
    "         \"tag\":\"greatings\",\n",
    "         \"input\":[\"hello\",\"hi there\",\"nice to meet you\",\"hi\",\"hey there\",\"hey\"],\n",
    "         \"responses\":[\n",
    "             \"Hi. welcome\",\n",
    "             \"Hey yo, do you need help i ?\",\n",
    "             \"Welcome aboard , how may i help you ?\",\n",
    "             \"ahoy!!\",\n",
    "             \"Hi random person , what do you want ?\",\n",
    "             \"Hello my person , how can i help you ?\",\n",
    "             \"Ha , Glad you showed up . How are you ?\"\n",
    "         ]\n",
    "     } , \n",
    "     \n",
    "     {\n",
    "         \"tag\":\"goodbye\",\n",
    "         \"input\":[\"Thank You\" , \"Thanks\" , \"Thanks for the info\" , \"bye\" , \"adios\" , \"ok.bye\" , \"goodbye\" , \"see you later\" , \"i will catch you later\" ],\n",
    "         \"responses\":[\n",
    "             \"okay, bye\",\n",
    "             \"Have a nice day\",\n",
    "             \"Adios\",\n",
    "             \"Goodbye\",\n",
    "             \"See you later\",\n",
    "             \"nice conversation\",\n",
    "             \"bye\",\n",
    "             \"okay , have a nice day\",\n",
    "             \"Take care\",\n",
    "             \"We will meet soon\",\n",
    "             \"Yeah sure . will talk to you later\",\n",
    "             \"Okay , Take Care\"\n",
    "         ]\n",
    "     } ,\n",
    "     {\n",
    "         \"tag\":\"howami\",\n",
    "         \"input\":[\"how are you ?\" , \"i am fine\" , \"are you fine ?\" , \"how are things going on ?\" , \"everything going on okay ?\" , \"how is every thing is going\"],\n",
    "         \"responses\":[\n",
    "             \"Yeah , am fine\",\n",
    "             \"Every thing is going on well\",\n",
    "             \"Doing good . Thanks you are my best friend\",\n",
    "             \"Things are great\",\n",
    "             \"Yeah Fine , nothing much going in my life\",\n",
    "             \"Everythings great\",\n",
    "             \"I am doing good . Life is boring . Need to go on an adventure\"\n",
    "         ]\n",
    "     } ,\n",
    "     {\n",
    "         \"tag\":\"whoareyou\",\n",
    "         \"input\":[\"who are you ?\" , \"what are you ?\" , \"what is your name ?\" , \"are you a chatbot ?\" , \"what can i call you ?\" , \"your name ?\" , \"are you a bot ? \"],\n",
    "         \"responses\":[\n",
    "             \"I am a chatbot . You can call me Bchat\",\n",
    "             \"I am a Bchat you could ask questions\",\n",
    "             \"Bchat as your service\",\n",
    "             \"My name is Bchat and yes i am a chat bot\",\n",
    "             \"I am here to help you\"\n",
    "         ]\n",
    "     } ,\n",
    "     {\n",
    "         \"tag\":\"whereareyou\",\n",
    "         \"input\":[\"Where are you from ?\" , \"Which country are you from ?\" , \"Where do you live ?\" , \"Where are you ?\" , \"Where do you live in ?\" , \"which place do you live in\"],\n",
    "         \"responses\":[\n",
    "             \"I live in southern province\",\n",
    "             \"I live in southern province . Pretty sure you would not have heared about that\",\n",
    "             \"Souther province . thats where i live in\"\n",
    "         ]\n",
    "     } ,\n",
    "     \n",
    "     {\n",
    "         \"tag\":\"join\",\n",
    "         \"input\":[\"How to get recruit ?\" , \"How to join ?\" , \"How do i get recruit ?\" , \"How do i join ?\"],\n",
    "         \"responses\":[\n",
    "             \"you need contact the nearest HR office once you have the complete the pre requisites\",\n",
    "             \"contact the closet HR office from your location\",\n",
    "             \"well. there are some pre-requisites and after you complete them , find the HR office\"\n",
    "             ]\n",
    "     } ,\n",
    "     \n",
    "     {\n",
    "         \"tag\":\"whereisthehroffice\",\n",
    "         \"input\":[\"Where is the HR office located ?\" , \"location of the HR office ?\" , \"HR office's location ?\" , \"Where can i find the HR office ?\"],\n",
    "         \"responses\":[\n",
    "             \"That's up to you . use your skills\",\n",
    "             \"They are present all over the city you live in . find them on your own . I can not give any more information\",\n",
    "             \"There are a lot of HR offices in the city you are in . find them\"\n",
    "         ]\n",
    "     } \n",
    "     \n",
    " ]\n",
    "}"
   ]
  },
  {
   "cell_type": "markdown",
   "id": "50959cf4",
   "metadata": {},
   "source": [
    "### importing data"
   ]
  },
  {
   "cell_type": "code",
   "execution_count": 13,
   "id": "4ff45f48",
   "metadata": {},
   "outputs": [],
   "source": [
    "with open('content.json') as content:\n",
    "    data1 = json.load(content)"
   ]
  },
  {
   "cell_type": "markdown",
   "id": "8de68453",
   "metadata": {},
   "source": [
    "### get all the data to list"
   ]
  },
  {
   "cell_type": "code",
   "execution_count": 17,
   "id": "8d8677de",
   "metadata": {},
   "outputs": [],
   "source": [
    "tags = []\n",
    "inputs = []\n",
    "responses = {}\n",
    "for intent in data1['intents']:\n",
    "    responses[intent['tag']]=intent['responses']\n",
    "    for lines in intent['input']:\n",
    "        inputs.append(lines)\n",
    "        tags.append(intent['tag'])\n",
    "    "
   ]
  },
  {
   "cell_type": "markdown",
   "id": "28027da0",
   "metadata": {},
   "source": [
    "### converting to data frames"
   ]
  },
  {
   "cell_type": "code",
   "execution_count": 18,
   "id": "76d0dbdf",
   "metadata": {},
   "outputs": [],
   "source": [
    "data = pd.DataFrame({\"inputs\":inputs,\n",
    "                     \"tags\":tags})"
   ]
  },
  {
   "cell_type": "markdown",
   "id": "47631cbe",
   "metadata": {},
   "source": [
    "### printing the data"
   ]
  },
  {
   "cell_type": "markdown",
   "id": "0d9e8a40",
   "metadata": {},
   "source": [
    "data"
   ]
  },
  {
   "cell_type": "code",
   "execution_count": 20,
   "id": "3d7252be",
   "metadata": {},
   "outputs": [],
   "source": [
    "data = data.sample(frac=1)"
   ]
  },
  {
   "cell_type": "markdown",
   "id": "592f638b",
   "metadata": {},
   "source": [
    "## Pre-Processing"
   ]
  },
  {
   "cell_type": "markdown",
   "id": "08e9cf2d",
   "metadata": {},
   "source": [
    "### removing punctuations"
   ]
  },
  {
   "cell_type": "code",
   "execution_count": 21,
   "id": "22a72d9b",
   "metadata": {},
   "outputs": [
    {
     "data": {
      "text/html": [
       "<div>\n",
       "<style scoped>\n",
       "    .dataframe tbody tr th:only-of-type {\n",
       "        vertical-align: middle;\n",
       "    }\n",
       "\n",
       "    .dataframe tbody tr th {\n",
       "        vertical-align: top;\n",
       "    }\n",
       "\n",
       "    .dataframe thead th {\n",
       "        text-align: right;\n",
       "    }\n",
       "</style>\n",
       "<table border=\"1\" class=\"dataframe\">\n",
       "  <thead>\n",
       "    <tr style=\"text-align: right;\">\n",
       "      <th></th>\n",
       "      <th>inputs</th>\n",
       "      <th>tags</th>\n",
       "    </tr>\n",
       "  </thead>\n",
       "  <tbody>\n",
       "    <tr>\n",
       "      <th>11</th>\n",
       "      <td>okbye</td>\n",
       "      <td>goodbye</td>\n",
       "    </tr>\n",
       "    <tr>\n",
       "      <th>10</th>\n",
       "      <td>adios</td>\n",
       "      <td>goodbye</td>\n",
       "    </tr>\n",
       "    <tr>\n",
       "      <th>12</th>\n",
       "      <td>goodbye</td>\n",
       "      <td>goodbye</td>\n",
       "    </tr>\n",
       "    <tr>\n",
       "      <th>7</th>\n",
       "      <td>thanks</td>\n",
       "      <td>goodbye</td>\n",
       "    </tr>\n",
       "    <tr>\n",
       "      <th>0</th>\n",
       "      <td>hello</td>\n",
       "      <td>greatings</td>\n",
       "    </tr>\n",
       "    <tr>\n",
       "      <th>19</th>\n",
       "      <td>everything going on okay</td>\n",
       "      <td>howami</td>\n",
       "    </tr>\n",
       "    <tr>\n",
       "      <th>9</th>\n",
       "      <td>bye</td>\n",
       "      <td>goodbye</td>\n",
       "    </tr>\n",
       "    <tr>\n",
       "      <th>26</th>\n",
       "      <td>your name</td>\n",
       "      <td>whoareyou</td>\n",
       "    </tr>\n",
       "    <tr>\n",
       "      <th>28</th>\n",
       "      <td>where are you from</td>\n",
       "      <td>whereareyou</td>\n",
       "    </tr>\n",
       "    <tr>\n",
       "      <th>18</th>\n",
       "      <td>how are things going on</td>\n",
       "      <td>howami</td>\n",
       "    </tr>\n",
       "    <tr>\n",
       "      <th>29</th>\n",
       "      <td>which country are you from</td>\n",
       "      <td>whereareyou</td>\n",
       "    </tr>\n",
       "    <tr>\n",
       "      <th>3</th>\n",
       "      <td>hi</td>\n",
       "      <td>greatings</td>\n",
       "    </tr>\n",
       "    <tr>\n",
       "      <th>23</th>\n",
       "      <td>what is your name</td>\n",
       "      <td>whoareyou</td>\n",
       "    </tr>\n",
       "    <tr>\n",
       "      <th>1</th>\n",
       "      <td>hi there</td>\n",
       "      <td>greatings</td>\n",
       "    </tr>\n",
       "    <tr>\n",
       "      <th>15</th>\n",
       "      <td>how are you</td>\n",
       "      <td>howami</td>\n",
       "    </tr>\n",
       "    <tr>\n",
       "      <th>41</th>\n",
       "      <td>where can i find the hr office</td>\n",
       "      <td>whereisthehroffice</td>\n",
       "    </tr>\n",
       "    <tr>\n",
       "      <th>22</th>\n",
       "      <td>what are you</td>\n",
       "      <td>whoareyou</td>\n",
       "    </tr>\n",
       "    <tr>\n",
       "      <th>16</th>\n",
       "      <td>i am fine</td>\n",
       "      <td>howami</td>\n",
       "    </tr>\n",
       "    <tr>\n",
       "      <th>36</th>\n",
       "      <td>how do i get recruit</td>\n",
       "      <td>join</td>\n",
       "    </tr>\n",
       "    <tr>\n",
       "      <th>25</th>\n",
       "      <td>what can i call you</td>\n",
       "      <td>whoareyou</td>\n",
       "    </tr>\n",
       "    <tr>\n",
       "      <th>34</th>\n",
       "      <td>how to get recruit</td>\n",
       "      <td>join</td>\n",
       "    </tr>\n",
       "    <tr>\n",
       "      <th>40</th>\n",
       "      <td>hr offices location</td>\n",
       "      <td>whereisthehroffice</td>\n",
       "    </tr>\n",
       "    <tr>\n",
       "      <th>30</th>\n",
       "      <td>where do you live</td>\n",
       "      <td>whereareyou</td>\n",
       "    </tr>\n",
       "    <tr>\n",
       "      <th>6</th>\n",
       "      <td>thank you</td>\n",
       "      <td>goodbye</td>\n",
       "    </tr>\n",
       "    <tr>\n",
       "      <th>2</th>\n",
       "      <td>nice to meet you</td>\n",
       "      <td>greatings</td>\n",
       "    </tr>\n",
       "    <tr>\n",
       "      <th>33</th>\n",
       "      <td>which place do you live in</td>\n",
       "      <td>whereareyou</td>\n",
       "    </tr>\n",
       "    <tr>\n",
       "      <th>4</th>\n",
       "      <td>hey there</td>\n",
       "      <td>greatings</td>\n",
       "    </tr>\n",
       "    <tr>\n",
       "      <th>32</th>\n",
       "      <td>where do you live in</td>\n",
       "      <td>whereareyou</td>\n",
       "    </tr>\n",
       "    <tr>\n",
       "      <th>37</th>\n",
       "      <td>how do i join</td>\n",
       "      <td>join</td>\n",
       "    </tr>\n",
       "    <tr>\n",
       "      <th>20</th>\n",
       "      <td>how is every thing is going</td>\n",
       "      <td>howami</td>\n",
       "    </tr>\n",
       "    <tr>\n",
       "      <th>39</th>\n",
       "      <td>location of the hr office</td>\n",
       "      <td>whereisthehroffice</td>\n",
       "    </tr>\n",
       "    <tr>\n",
       "      <th>31</th>\n",
       "      <td>where are you</td>\n",
       "      <td>whereareyou</td>\n",
       "    </tr>\n",
       "    <tr>\n",
       "      <th>21</th>\n",
       "      <td>who are you</td>\n",
       "      <td>whoareyou</td>\n",
       "    </tr>\n",
       "    <tr>\n",
       "      <th>35</th>\n",
       "      <td>how to join</td>\n",
       "      <td>join</td>\n",
       "    </tr>\n",
       "    <tr>\n",
       "      <th>27</th>\n",
       "      <td>are you a bot</td>\n",
       "      <td>whoareyou</td>\n",
       "    </tr>\n",
       "    <tr>\n",
       "      <th>5</th>\n",
       "      <td>hey</td>\n",
       "      <td>greatings</td>\n",
       "    </tr>\n",
       "    <tr>\n",
       "      <th>17</th>\n",
       "      <td>are you fine</td>\n",
       "      <td>howami</td>\n",
       "    </tr>\n",
       "    <tr>\n",
       "      <th>38</th>\n",
       "      <td>where is the hr office located</td>\n",
       "      <td>whereisthehroffice</td>\n",
       "    </tr>\n",
       "    <tr>\n",
       "      <th>14</th>\n",
       "      <td>i will catch you later</td>\n",
       "      <td>goodbye</td>\n",
       "    </tr>\n",
       "    <tr>\n",
       "      <th>13</th>\n",
       "      <td>see you later</td>\n",
       "      <td>goodbye</td>\n",
       "    </tr>\n",
       "    <tr>\n",
       "      <th>24</th>\n",
       "      <td>are you a chatbot</td>\n",
       "      <td>whoareyou</td>\n",
       "    </tr>\n",
       "    <tr>\n",
       "      <th>8</th>\n",
       "      <td>thanks for the info</td>\n",
       "      <td>goodbye</td>\n",
       "    </tr>\n",
       "  </tbody>\n",
       "</table>\n",
       "</div>"
      ],
      "text/plain": [
       "                             inputs                tags\n",
       "11                            okbye             goodbye\n",
       "10                            adios             goodbye\n",
       "12                          goodbye             goodbye\n",
       "7                            thanks             goodbye\n",
       "0                             hello           greatings\n",
       "19        everything going on okay               howami\n",
       "9                               bye             goodbye\n",
       "26                       your name            whoareyou\n",
       "28              where are you from          whereareyou\n",
       "18         how are things going on               howami\n",
       "29      which country are you from          whereareyou\n",
       "3                                hi           greatings\n",
       "23               what is your name            whoareyou\n",
       "1                          hi there           greatings\n",
       "15                     how are you               howami\n",
       "41  where can i find the hr office   whereisthehroffice\n",
       "22                    what are you            whoareyou\n",
       "16                        i am fine              howami\n",
       "36            how do i get recruit                 join\n",
       "25             what can i call you            whoareyou\n",
       "34              how to get recruit                 join\n",
       "40             hr offices location   whereisthehroffice\n",
       "30               where do you live          whereareyou\n",
       "6                         thank you             goodbye\n",
       "2                  nice to meet you           greatings\n",
       "33       which place do you live in         whereareyou\n",
       "4                         hey there           greatings\n",
       "32            where do you live in          whereareyou\n",
       "37                   how do i join                 join\n",
       "20      how is every thing is going              howami\n",
       "39       location of the hr office   whereisthehroffice\n",
       "31                   where are you          whereareyou\n",
       "21                     who are you            whoareyou\n",
       "35                     how to join                 join\n",
       "27                  are you a bot             whoareyou\n",
       "5                               hey           greatings\n",
       "17                    are you fine               howami\n",
       "38  where is the hr office located   whereisthehroffice\n",
       "14           i will catch you later             goodbye\n",
       "13                    see you later             goodbye\n",
       "24               are you a chatbot            whoareyou\n",
       "8               thanks for the info             goodbye"
      ]
     },
     "execution_count": 21,
     "metadata": {},
     "output_type": "execute_result"
    }
   ],
   "source": [
    "import string\n",
    "data['inputs'] = data['inputs'].apply(lambda wrd:[ltrs.lower() for ltrs in wrd if ltrs not in string.punctuation])\n",
    "data['inputs'] = data['inputs'].apply(lambda wrd: ''.join(wrd))\n",
    "data"
   ]
  },
  {
   "cell_type": "markdown",
   "id": "be9cce25",
   "metadata": {},
   "source": [
    "### tokenize the data"
   ]
  },
  {
   "cell_type": "code",
   "execution_count": 28,
   "id": "613ad687",
   "metadata": {},
   "outputs": [],
   "source": [
    "from tensorflow.keras.preprocessing.text import Tokenizer\n",
    "tokenizer = Tokenizer(num_words = 2000)\n",
    "tokenizer.fit_on_texts(data['inputs'])\n",
    "train = tokenizer.texts_to_sequences(data['inputs'])\n",
    "\n",
    "#apply padding\n",
    "from tensorflow.keras.preprocessing.sequence import pad_sequences\n",
    "x_train = pad_sequences(train)\n",
    "\n",
    "#encoding the outputs\n",
    "from sklearn.preprocessing import LabelEncoder\n",
    "le = LabelEncoder()\n",
    "y_train = le.fit_transform(data['tags'])"
   ]
  },
  {
   "cell_type": "code",
   "execution_count": 29,
   "id": "aecb0aa2",
   "metadata": {},
   "outputs": [
    {
     "name": "stdout",
     "output_type": "stream",
     "text": [
      "7\n"
     ]
    }
   ],
   "source": [
    "input_shape = x_train.shape[1]\n",
    "print(input_shape)"
   ]
  },
  {
   "cell_type": "markdown",
   "id": "803d86f2",
   "metadata": {},
   "source": [
    "### define vocabulary"
   ]
  },
  {
   "cell_type": "code",
   "execution_count": 30,
   "id": "702e27b9",
   "metadata": {},
   "outputs": [
    {
     "name": "stdout",
     "output_type": "stream",
     "text": [
      "number of unique words :  61\n",
      "output length :  7\n"
     ]
    }
   ],
   "source": [
    "vocabulary = len(tokenizer.word_index)\n",
    "print(\"number of unique words : \",vocabulary)\n",
    "output_length = le.classes_.shape[0]\n",
    "print(\"output length : \",output_length)"
   ]
  },
  {
   "cell_type": "markdown",
   "id": "ac6c0993",
   "metadata": {},
   "source": [
    "# Neural Network"
   ]
  },
  {
   "cell_type": "markdown",
   "id": "5359ee78",
   "metadata": {},
   "source": [
    "### creating the model"
   ]
  },
  {
   "cell_type": "code",
   "execution_count": 31,
   "id": "a5cd8730",
   "metadata": {},
   "outputs": [],
   "source": [
    "i = Input(shape=(input_shape,))\n",
    "x = Embedding(vocabulary+1,10)(i)\n",
    "x = LSTM(10,return_sequences=True)(x)\n",
    "x = Flatten()(x)\n",
    "x = Dense(output_length,activation=\"softmax\")(x)\n",
    "model = Model(i,x)"
   ]
  },
  {
   "cell_type": "markdown",
   "id": "246f8987",
   "metadata": {},
   "source": [
    "### compiling the model"
   ]
  },
  {
   "cell_type": "code",
   "execution_count": 32,
   "id": "6828459e",
   "metadata": {},
   "outputs": [],
   "source": [
    "model.compile(loss=\"sparse_categorical_crossentropy\",optimizer='adam',metrics=['accuracy'])"
   ]
  },
  {
   "cell_type": "markdown",
   "id": "491f4d29",
   "metadata": {},
   "source": [
    "### train the model"
   ]
  },
  {
   "cell_type": "code",
   "execution_count": null,
   "id": "e4a4afc3",
   "metadata": {},
   "outputs": [],
   "source": [
    "train = model.fit(x_train,y_train,epocos=200)"
   ]
  }
 ],
 "metadata": {
  "kernelspec": {
   "display_name": "Python 3 (ipykernel)",
   "language": "python",
   "name": "python3"
  },
  "language_info": {
   "codemirror_mode": {
    "name": "ipython",
    "version": 3
   },
   "file_extension": ".py",
   "mimetype": "text/x-python",
   "name": "python",
   "nbconvert_exporter": "python",
   "pygments_lexer": "ipython3",
   "version": "3.9.7"
  }
 },
 "nbformat": 4,
 "nbformat_minor": 5
}
