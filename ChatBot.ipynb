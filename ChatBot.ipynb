{
 "cells": [
  {
   "cell_type": "markdown",
   "id": "386cd2b8",
   "metadata": {},
   "source": [
    "# ChatBot"
   ]
  },
  {
   "cell_type": "code",
   "execution_count": 5,
   "id": "c04b52d9",
   "metadata": {},
   "outputs": [],
   "source": [
    "import tensorflow as tf\n",
    "import numpy as np\n",
    "import pandas as pd\n",
    "import json\n",
    "import nltk\n",
    "from tensorflow.keras.preprocessing.text import Tokenizer\n",
    "from tensorflow.keras.layers import Input , Embedding , LSTM , Dense , GlobalMaxPooling1D , Flatten\n",
    "from tensorflow.keras.models import Model\n",
    "import matplotlib.pyplot as plt"
   ]
  },
  {
   "cell_type": "code",
   "execution_count": 10,
   "id": "c4597807",
   "metadata": {},
   "outputs": [
    {
     "name": "stdout",
     "output_type": "stream",
     "text": [
      "Overwriting content.json\n"
     ]
    }
   ],
   "source": [
    "%%writefile content.json\n",
    "{\"interns\":\n",
    " [\n",
    "     {\n",
    "         \"tag\":\"greatings\",\n",
    "         \"input\":[\"hello\",\"hi there\",\"nice to meet you\",\"hi\",\"hey there\",\"hey\"],\n",
    "         \"responses\":[\n",
    "             \"Hi. welcome\",\n",
    "             \"Hey yo, do you need help i ?\",\n",
    "             \"Welcome aboard , how may i help you ?\",\n",
    "             \"ahoy!!\",\n",
    "             \"Hi random person , what do you want ?\",\n",
    "             \"Hello my person , how can i help you ?\",\n",
    "             \"Ha , Glad you showed up . How are you ?\"\n",
    "         ]\n",
    "     } , \n",
    "     \n",
    "     {\n",
    "         \"tag\":\"goodbye\",\n",
    "         \"input\":[\"Thank You\" , \"Thanks\" , \"Thanks for the info\" , \"bye\" , \"adios\" , \"ok.bye\" , \"goodbye\" , \"see you later\" , \"i will catch you later\" ],\n",
    "         \"responses\":[\n",
    "             \"okay, bye\",\n",
    "             \"Have a nice day\",\n",
    "             \"Adios\",\n",
    "             \"Goodbye\",\n",
    "             \"See you later\",\n",
    "             \"nice conversation\",\n",
    "             \"bye\",\n",
    "             \"okay , have a nice day\",\n",
    "             \"Take care\",\n",
    "             \"We will meet soon\",\n",
    "             \"Yeah sure . will talk to you later\",\n",
    "             \"Okay , Take Care\"\n",
    "         ]\n",
    "     } ,\n",
    "     {\n",
    "         \"tag\":\"howami\",\n",
    "         \"input\":[\"how are you ?\" , \"i am fine\" , \"are you fine ?\" , \"how are things going on ?\" , \"everything going on okay ?\" , \"how is every thing is going\"],\n",
    "         \"responses\":[\n",
    "             \"Yeah , am fine\",\n",
    "             \"Every thing is going on well\",\n",
    "             \"Doing good . Thanks you are my best friend\",\n",
    "             \"Things are great\",\n",
    "             \"Yeah Fine , nothing much going in my life\",\n",
    "             \"Everythings great\",\n",
    "             \"I am doing good . Life is boring . Need to go on an adventure\"\n",
    "         ]\n",
    "     } ,\n",
    "     {\n",
    "         \"tag\":\"whoareyou\",\n",
    "         \"input\":[\"who are you ?\" , \"what are you ?\" , \"what is your name ?\" , \"are you a chatbot ?\" , \"what can i call you ?\" , \"your name ?\" , \"are you a bot ? \"],\n",
    "         \"responses\":[\n",
    "             \"I am a chatbot . You can call me Bchat\",\n",
    "             \"I am a Bchat you could ask questions\",\n",
    "             \"Bchat as your service\",\n",
    "             \"My name is Bchat and yes i am a chat bot\",\n",
    "             \"I am here to help you\"\n",
    "         ]\n",
    "     } ,\n",
    "     {\n",
    "         \"tag\":\"whereareyou\",\n",
    "         \"input\":[\"Where are you from ?\" , \"Which country are you from ?\" , \"Where do you live ?\" , \"Where are you ?\" , \"Where do you live in ?\" , \"which place do you live in\"],\n",
    "         \"responses\":[\n",
    "             \"I live in southern province\",\n",
    "             \"I live in southern province . Pretty sure you would not have heared about that\",\n",
    "             \"Souther province . thats where i live in\"\n",
    "         ]\n",
    "     } ,\n",
    "     \n",
    "     {\n",
    "         \"tag\":\"join\",\n",
    "         \"input\":[\"How to get recruit ?\" , \"How to join ?\" , \"How do i get recruit ?\" , \"How do i join ?\"],\n",
    "         \"responses\":[\n",
    "             \"you need contact the nearest HR office once you have the complete the pre requisites\",\n",
    "             \"contact the closet HR office from your location\",\n",
    "             \"well. there are some pre-requisites and after you complete them , find the HR office\"\n",
    "             ]\n",
    "     } ,\n",
    "     \n",
    "     {\n",
    "         \"tag\":\"whereisthehroffice\",\n",
    "         \"input\":[\"Where is the HR office located ?\" , \"location of the HR office ?\" , \"HR office's location ?\" , \"Where can i find the HR office ?\"],\n",
    "         \"responses\":[\n",
    "             \"That's up to you . use your skills\",\n",
    "             \"They are present all over the city you live in . find them on your own . I can not give any more information\",\n",
    "             \"There are a lot of HR offices in the city you are in . find them\"\n",
    "         ]\n",
    "     } \n",
    "     \n",
    " ]\n",
    "}"
   ]
  },
  {
   "cell_type": "markdown",
   "id": "b6ed1798",
   "metadata": {},
   "source": [
    "## importing data"
   ]
  },
  {
   "cell_type": "code",
   "execution_count": 11,
   "id": "352d544b",
   "metadata": {},
   "outputs": [],
   "source": [
    "with open('content.json') as content:\n",
    "    data1 = json.load(content)"
   ]
  },
  {
   "cell_type": "code",
   "execution_count": null,
   "id": "155b7e91",
   "metadata": {},
   "outputs": [],
   "source": []
  }
 ],
 "metadata": {
  "kernelspec": {
   "display_name": "Python 3 (ipykernel)",
   "language": "python",
   "name": "python3"
  },
  "language_info": {
   "codemirror_mode": {
    "name": "ipython",
    "version": 3
   },
   "file_extension": ".py",
   "mimetype": "text/x-python",
   "name": "python",
   "nbconvert_exporter": "python",
   "pygments_lexer": "ipython3",
   "version": "3.9.7"
  }
 },
 "nbformat": 4,
 "nbformat_minor": 5
}
